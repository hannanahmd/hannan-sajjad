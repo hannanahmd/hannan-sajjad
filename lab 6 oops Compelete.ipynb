{
 "cells": [
  {
   "cell_type": "markdown",
   "id": "65af97c2",
   "metadata": {},
   "source": [
    "## Motivation:"
   ]
  },
  {
   "cell_type": "markdown",
   "id": "97f76a6b",
   "metadata": {},
   "source": [
    " ## 2. Consider the following class definition from the last class. "
   ]
  },
  {
   "cell_type": "code",
   "execution_count": 13,
   "id": "ff05ea1f",
   "metadata": {},
   "outputs": [],
   "source": [
    "class Dog:\n",
    "  species = \"Canis familiaris\"\n",
    "  def __init__(self, name, age):\n",
    "     self.name = name\n",
    "     self.age = age\n",
    "  # Instance method\n",
    "  def description(self):\n",
    "     return f\"{self.name} is {self.age} years old\"\n",
    "  # Another instance method\n",
    "  def speak(self, sound):\n",
    "     return f\"{self.name} says {sound}\""
   ]
  },
  {
   "cell_type": "markdown",
   "id": "a834cea2",
   "metadata": {},
   "source": [
    "## a. Run the code: miles.description()\n"
   ]
  },
  {
   "cell_type": "code",
   "execution_count": 17,
   "id": "1268d214",
   "metadata": {},
   "outputs": [],
   "source": [
    "miles= Dog(name=\"Miles\", age = 4)\n",
    "result = miles.description()\n"
   ]
  },
  {
   "cell_type": "markdown",
   "id": "2e200d1a",
   "metadata": {},
   "source": [
    "## b. Run the code: print(miles)\n"
   ]
  },
  {
   "cell_type": "code",
   "execution_count": 18,
   "id": "b02264a9",
   "metadata": {
    "scrolled": true
   },
   "outputs": [
    {
     "name": "stdout",
     "output_type": "stream",
     "text": [
      "Miles is 4 years old\n"
     ]
    }
   ],
   "source": [
    "print(result)"
   ]
  },
  {
   "cell_type": "markdown",
   "id": "0e6d5923",
   "metadata": {},
   "source": [
    "## c. Copy this list to the code editor, names = [\"Fletcher\", \"David\", \"Dan\"]. Now run print(names). Note: What is the\n",
    "difference between the two prints, the first one prints a memory address while the second one prints the list.\n",
    "The second one is good and attractive. "
   ]
  },
  {
   "cell_type": "code",
   "execution_count": 20,
   "id": "b6df542b",
   "metadata": {},
   "outputs": [
    {
     "name": "stdout",
     "output_type": "stream",
     "text": [
      "['Fletcher', 'David', 'Dan']\n"
     ]
    }
   ],
   "source": [
    "names = [\"Fletcher\", \"David\", \"Dan\"]\n",
    "print(names)"
   ]
  },
  {
   "cell_type": "markdown",
   "id": "bdb9bdeb",
   "metadata": {},
   "source": [
    "## d. Now modify the dog class as follows:"
   ]
  },
  {
   "cell_type": "code",
   "execution_count": 24,
   "id": "0ccb49c8",
   "metadata": {},
   "outputs": [],
   "source": [
    "class Dog:\n",
    "  species = \"Canis familiaris\"\n",
    "  def __init__(self, name, age):\n",
    "    self.name = name\n",
    "    self.age = age\n",
    "  # Instance method\n",
    "  def __str__(self):\n",
    "    return f\"{self.name} is {self.age} years old\"\n",
    "  # Another instance method\n",
    "  def speak(self, sound):\n",
    "    return f\"{self.name} says {sound}\""
   ]
  },
  {
   "cell_type": "code",
   "execution_count": 23,
   "id": "ba414bf8",
   "metadata": {},
   "outputs": [
    {
     "name": "stdout",
     "output_type": "stream",
     "text": [
      "<__main__.Dog object at 0x000001F85382A990>\n",
      "4\n",
      "Miles\n"
     ]
    }
   ],
   "source": [
    "miles=Dog(name=\"Miles\" , age=4)\n",
    "def __str_(self):\n",
    "    return f\"Dog(name={self.name},age = {self.age})\"\n",
    "print(miles)\n",
    "print(miles.age)\n",
    "print(miles.name)"
   ]
  },
  {
   "cell_type": "markdown",
   "id": "b34e264a",
   "metadata": {},
   "source": [
    "## 3. Consider the car class"
   ]
  },
  {
   "cell_type": "code",
   "execution_count": 38,
   "id": "215ef84a",
   "metadata": {},
   "outputs": [],
   "source": [
    "class Car:\n",
    "   def __init__(self, color, mileage):\n",
    "     self.color = color\n",
    "     self.mileage = mileage\n",
    "     def __str__(self): \n",
    "        return f\"The {self,color} car has {self,mileage:,} miles\""
   ]
  },
  {
   "cell_type": "markdown",
   "id": "fc11d208",
   "metadata": {},
   "source": [
    "## a. Define an object:"
   ]
  },
  {
   "cell_type": "code",
   "execution_count": 39,
   "id": "889e7914",
   "metadata": {},
   "outputs": [],
   "source": [
    "my_car = Car('red', 37281)"
   ]
  },
  {
   "cell_type": "markdown",
   "id": "03bc4648",
   "metadata": {},
   "source": [
    "## b. Run: print(my_car)\n"
   ]
  },
  {
   "cell_type": "code",
   "execution_count": 40,
   "id": "91f10824",
   "metadata": {},
   "outputs": [
    {
     "name": "stdout",
     "output_type": "stream",
     "text": [
      "<__main__.Car object at 0x000001F8538A66D0>\n"
     ]
    }
   ],
   "source": [
    "print(my_car)\n"
   ]
  },
  {
   "cell_type": "markdown",
   "id": "78ad90cd",
   "metadata": {},
   "source": [
    "## c. Run: my_car"
   ]
  },
  {
   "cell_type": "code",
   "execution_count": 41,
   "id": "c4bcb972",
   "metadata": {},
   "outputs": [
    {
     "data": {
      "text/plain": [
       "<__main__.Car at 0x1f8538a66d0>"
      ]
     },
     "execution_count": 41,
     "metadata": {},
     "output_type": "execute_result"
    }
   ],
   "source": [
    "my_car"
   ]
  },
  {
   "cell_type": "markdown",
   "id": "5c9374fc",
   "metadata": {},
   "source": [
    "## 4. Modify the car class by introducing an __str__ method. "
   ]
  },
  {
   "cell_type": "code",
   "execution_count": 3,
   "id": "8b7d892a",
   "metadata": {},
   "outputs": [],
   "source": [
    "class Car:\n",
    "    def __init__(self, color, mileage):\n",
    "        self.color = color\n",
    "        self.mileage = mileage\n",
    "    def __str__(self):\n",
    "        return f\"The {self.color} car has {self.mileage:,} miles\""
   ]
  },
  {
   "cell_type": "markdown",
   "id": "17badfcd",
   "metadata": {},
   "source": [
    "## a. Define an object: my_car = Car('red', 37281)\n"
   ]
  },
  {
   "cell_type": "code",
   "execution_count": 4,
   "id": "854557be",
   "metadata": {},
   "outputs": [],
   "source": [
    "my_car = Car('red', 37281)"
   ]
  },
  {
   "cell_type": "markdown",
   "id": "5d3a6396",
   "metadata": {},
   "source": [
    "## b. Run: print(my_car.color, my_car.mileage)\n"
   ]
  },
  {
   "cell_type": "code",
   "execution_count": 5,
   "id": "44b45b0f",
   "metadata": {},
   "outputs": [
    {
     "name": "stdout",
     "output_type": "stream",
     "text": [
      "red 37281\n"
     ]
    }
   ],
   "source": [
    "print(my_car.color, my_car.mileage)"
   ]
  },
  {
   "cell_type": "markdown",
   "id": "4c20193f",
   "metadata": {},
   "source": [
    "## c. print(my_car)\n"
   ]
  },
  {
   "cell_type": "code",
   "execution_count": 6,
   "id": "22c59bfd",
   "metadata": {},
   "outputs": [
    {
     "name": "stdout",
     "output_type": "stream",
     "text": [
      "The red car has 37,281 miles\n"
     ]
    }
   ],
   "source": [
    "print(my_car)"
   ]
  },
  {
   "cell_type": "markdown",
   "id": "c0f89174",
   "metadata": {},
   "source": [
    "## d. Run: my_car"
   ]
  },
  {
   "cell_type": "code",
   "execution_count": 7,
   "id": "68618667",
   "metadata": {},
   "outputs": [
    {
     "data": {
      "text/plain": [
       "<__main__.Car at 0x2210e4d8c10>"
      ]
     },
     "execution_count": 7,
     "metadata": {},
     "output_type": "execute_result"
    }
   ],
   "source": [
    "my_car\n"
   ]
  },
  {
   "cell_type": "markdown",
   "id": "6fd585e3",
   "metadata": {},
   "source": [
    "## e. Add docstrings for the class and functions"
   ]
  },
  {
   "cell_type": "code",
   "execution_count": 8,
   "id": "ebadcd0f",
   "metadata": {},
   "outputs": [
    {
     "data": {
      "text/plain": [
       "<__main__.Car at 0x2210e4d8c10>"
      ]
     },
     "execution_count": 8,
     "metadata": {},
     "output_type": "execute_result"
    }
   ],
   "source": [
    "# Run: printing the car object directly\n",
    "my_car"
   ]
  },
  {
   "cell_type": "markdown",
   "id": "66fd61e5",
   "metadata": {},
   "source": [
    "## g. Use the help function to print the class details."
   ]
  },
  {
   "cell_type": "code",
   "execution_count": 9,
   "id": "1d1acd37",
   "metadata": {},
   "outputs": [
    {
     "name": "stdout",
     "output_type": "stream",
     "text": [
      "\n"
     ]
    }
   ],
   "source": [
    "print()"
   ]
  },
  {
   "cell_type": "markdown",
   "id": "d1c510c1",
   "metadata": {},
   "source": [
    "## 5. Complete car class"
   ]
  },
  {
   "cell_type": "code",
   "execution_count": 10,
   "id": "681deea6",
   "metadata": {},
   "outputs": [],
   "source": [
    "class Car:\n",
    "  def __init__(self, color, mileage):\n",
    "    self.color = color\n",
    "    self.mileage = mileage\n",
    "  def __repr__(self):\n",
    "    return (f'{self.__class__.__name__}('\n",
    "    f'{self.color!r}, {self.mileage!r})')\n",
    "  def __str__(self):\n",
    "    return f'a {self.color} car'"
   ]
  },
  {
   "cell_type": "markdown",
   "id": "d4191520",
   "metadata": {},
   "source": [
    "## a. Define an object: my_car = Car('red', 37281)"
   ]
  },
  {
   "cell_type": "code",
   "execution_count": 11,
   "id": "6f238d15",
   "metadata": {},
   "outputs": [],
   "source": [
    "my_car = Car('red', 37281)"
   ]
  },
  {
   "cell_type": "markdown",
   "id": "e402c588",
   "metadata": {},
   "source": [
    "## b. Run: print(my_car.color, my_car.mileage)"
   ]
  },
  {
   "cell_type": "code",
   "execution_count": 12,
   "id": "fc7c997b",
   "metadata": {},
   "outputs": [
    {
     "name": "stdout",
     "output_type": "stream",
     "text": [
      "red 37281\n"
     ]
    }
   ],
   "source": [
    "print(my_car.color, my_car.mileage)"
   ]
  },
  {
   "cell_type": "markdown",
   "id": "4c0633a5",
   "metadata": {},
   "source": [
    "## c. Run: print(my_car)"
   ]
  },
  {
   "cell_type": "code",
   "execution_count": 13,
   "id": "c3e7544a",
   "metadata": {},
   "outputs": [
    {
     "name": "stdout",
     "output_type": "stream",
     "text": [
      "a red car\n"
     ]
    }
   ],
   "source": [
    "print(my_car)"
   ]
  },
  {
   "cell_type": "markdown",
   "id": "c4fa6dd8",
   "metadata": {},
   "source": [
    "## d. Run: my_car"
   ]
  },
  {
   "cell_type": "code",
   "execution_count": 14,
   "id": "7657ddbd",
   "metadata": {},
   "outputs": [
    {
     "data": {
      "text/plain": [
       "Car('red', 37281)"
      ]
     },
     "execution_count": 14,
     "metadata": {},
     "output_type": "execute_result"
    }
   ],
   "source": [
    "my_car"
   ]
  },
  {
   "cell_type": "markdown",
   "id": "ccac891c",
   "metadata": {},
   "source": [
    "## 6. Consider the car class again. Add a new dunder method __repr__."
   ]
  },
  {
   "cell_type": "code",
   "execution_count": 20,
   "id": "9a40d38b",
   "metadata": {},
   "outputs": [],
   "source": [
    "class Car:\n",
    "    def __init__(self, color, mileage):\n",
    "      self.color = color\n",
    "      self.mileage = mileage\n",
    "    def __repr__(self):\n",
    "         return '__repr__ for Car'\n",
    "    def __str__(self):\n",
    "         return '__str__ for Car'"
   ]
  },
  {
   "cell_type": "markdown",
   "id": "c305a22b",
   "metadata": {},
   "source": [
    "## a. Define an object: my_car = Car('red', 37281)"
   ]
  },
  {
   "cell_type": "code",
   "execution_count": 16,
   "id": "42fbf95f",
   "metadata": {},
   "outputs": [],
   "source": [
    "my_car = Car('red', 37281)"
   ]
  },
  {
   "cell_type": "markdown",
   "id": "6bedaf33",
   "metadata": {},
   "source": [
    "## b. Run: print (my_car.color, my_car.mileage)"
   ]
  },
  {
   "cell_type": "code",
   "execution_count": 17,
   "id": "30848126",
   "metadata": {},
   "outputs": [
    {
     "name": "stdout",
     "output_type": "stream",
     "text": [
      "red 37281\n"
     ]
    }
   ],
   "source": [
    "print(my_car.color, my_car.mileage)"
   ]
  },
  {
   "cell_type": "markdown",
   "id": "1a9affa4",
   "metadata": {},
   "source": [
    "## c. Run: print(my_car)"
   ]
  },
  {
   "cell_type": "code",
   "execution_count": 22,
   "id": "ae845279",
   "metadata": {},
   "outputs": [
    {
     "name": "stdout",
     "output_type": "stream",
     "text": [
      "__str__ for Car\n"
     ]
    }
   ],
   "source": [
    "print(my_car)"
   ]
  },
  {
   "cell_type": "markdown",
   "id": "08e30975",
   "metadata": {},
   "source": [
    "## Run: my_car"
   ]
  },
  {
   "cell_type": "code",
   "execution_count": 19,
   "id": "8e2f9ce0",
   "metadata": {},
   "outputs": [
    {
     "data": {
      "text/plain": [
       "__repr__ for Car"
      ]
     },
     "execution_count": 19,
     "metadata": {},
     "output_type": "execute_result"
    }
   ],
   "source": [
    "my_car"
   ]
  },
  {
   "cell_type": "markdown",
   "id": "2bee4663",
   "metadata": {},
   "source": [
    "## 7. Consider the following code."
   ]
  },
  {
   "cell_type": "code",
   "execution_count": 31,
   "id": "f65838bd",
   "metadata": {},
   "outputs": [],
   "source": [
    "class Point:\n",
    "    'Represents a point in two-dimensional geometric coordinates'\n",
    "    def __init__(self, x=0, y=0):\n",
    "         '''Initialize the position of a new point. The x and y\n",
    "         coordinates can be specified. If they are not, the\n",
    "         point defaults to the origin.'''\n",
    "         self.move(x, y)\n",
    "    def move(self, x, y):\n",
    "         '''Move the point to a new location in 2D space.'''\n",
    "         self.x = x\n",
    "         self.y = y\n",
    "    def reset(self):\n",
    "         '''Reset the point back to the geometric origin: 0, 0'''\n",
    "         self.move(0, 0)\n",
    "    def calculate_distance(self, other_point):\n",
    "         \"\"\"Calculate the distance from this point to a second\n",
    "         point passed as a parameter.\n",
    "         This function uses the Pythagorean Theorem to calculate\n",
    "         the distance between the two points. The distance is\n",
    "         returned as a float.\"\"\"\n",
    "         return math.sqrt((self.x - other_point.x)**2 +(self.y -\n",
    "other_point.y)**2)"
   ]
  },
  {
   "cell_type": "markdown",
   "id": "0d9cf5e7",
   "metadata": {},
   "source": [
    "## h. Define an object point = Point(3, 9) and print its coordinate."
   ]
  },
  {
   "cell_type": "code",
   "execution_count": 32,
   "id": "3fc1da8b",
   "metadata": {},
   "outputs": [],
   "source": [
    "point = Point(3,9)"
   ]
  },
  {
   "cell_type": "markdown",
   "id": "9f0ec154",
   "metadata": {},
   "source": [
    "## i. Print the class docstring.\n",
    "• Hints: Use the object name to access the class-level docstring by using\n",
    "__doc__. (point.__doc__)"
   ]
  },
  {
   "cell_type": "code",
   "execution_count": 33,
   "id": "a7306ac9",
   "metadata": {},
   "outputs": [
    {
     "data": {
      "text/plain": [
       "'Represents a point in two-dimensional geometric coordinates'"
      ]
     },
     "execution_count": 33,
     "metadata": {},
     "output_type": "execute_result"
    }
   ],
   "source": [
    "point.__doc__"
   ]
  },
  {
   "cell_type": "markdown",
   "id": "afada9b8",
   "metadata": {},
   "source": [
    " ## j. Print different method docstring using object.meteod. __doc__"
   ]
  },
  {
   "cell_type": "code",
   "execution_count": 35,
   "id": "cfce3a12",
   "metadata": {},
   "outputs": [
    {
     "ename": "SyntaxError",
     "evalue": "invalid syntax (3071556581.py, line 1)",
     "output_type": "error",
     "traceback": [
      "\u001b[1;36m  Cell \u001b[1;32mIn[35], line 1\u001b[1;36m\u001b[0m\n\u001b[1;33m    point.move.\u001b[0m\n\u001b[1;37m               ^\u001b[0m\n\u001b[1;31mSyntaxError\u001b[0m\u001b[1;31m:\u001b[0m invalid syntax\n"
     ]
    }
   ],
   "source": [
    "point.move."
   ]
  },
  {
   "cell_type": "code",
   "execution_count": 36,
   "id": "2b8069ed",
   "metadata": {},
   "outputs": [
    {
     "name": "stdout",
     "output_type": "stream",
     "text": [
      "Help on Point in module __main__ object:\n",
      "\n",
      "class Point(builtins.object)\n",
      " |  Point(x=0, y=0)\n",
      " |  \n",
      " |  Represents a point in two-dimensional geometric coordinates\n",
      " |  \n",
      " |  Methods defined here:\n",
      " |  \n",
      " |  __init__(self, x=0, y=0)\n",
      " |      Initialize the position of a new point. The x and y\n",
      " |      coordinates can be specified. If they are not, the\n",
      " |      point defaults to the origin.\n",
      " |  \n",
      " |  calculate_distance(self, other_point)\n",
      " |      Calculate the distance from this point to a second\n",
      " |      point passed as a parameter.\n",
      " |      This function uses the Pythagorean Theorem to calculate\n",
      " |      the distance between the two points. The distance is\n",
      " |      returned as a float.\n",
      " |  \n",
      " |  move(self, x, y)\n",
      " |      Move the point to a new location in 2D space.\n",
      " |  \n",
      " |  reset(self)\n",
      " |      Reset the point back to the geometric origin: 0, 0\n",
      " |  \n",
      " |  ----------------------------------------------------------------------\n",
      " |  Data descriptors defined here:\n",
      " |  \n",
      " |  __dict__\n",
      " |      dictionary for instance variables (if defined)\n",
      " |  \n",
      " |  __weakref__\n",
      " |      list of weak references to the object (if defined)\n",
      "\n"
     ]
    }
   ],
   "source": [
    "help(point)"
   ]
  },
  {
   "cell_type": "markdown",
   "id": "02a51fe4",
   "metadata": {},
   "source": [
    "## 1. Point class"
   ]
  },
  {
   "cell_type": "code",
   "execution_count": 37,
   "id": "32108b28",
   "metadata": {},
   "outputs": [],
   "source": [
    "# point.py\n",
    "class Point:\n",
    "    def __init__(self, x, y):\n",
    "        print(\"Initialize the new instance of Point.\")\n",
    "        self.x = x\n",
    "        self.y = y\n",
    "    def __repr__(self) -> str:\n",
    "        return f\"{type(self).__name__}(x={self.x}, y={self.y})\""
   ]
  },
  {
   "cell_type": "markdown",
   "id": "eac6e375",
   "metadata": {},
   "source": [
    "## a. Run the following code"
   ]
  },
  {
   "cell_type": "code",
   "execution_count": 38,
   "id": "b8b502f7",
   "metadata": {},
   "outputs": [
    {
     "name": "stdout",
     "output_type": "stream",
     "text": [
      "Initialize the new instance of Point.\n"
     ]
    },
    {
     "data": {
      "text/plain": [
       "Point(x=21, y=42)"
      ]
     },
     "execution_count": 38,
     "metadata": {},
     "output_type": "execute_result"
    }
   ],
   "source": [
    "point = Point(21, 42)\n",
    "point"
   ]
  },
  {
   "cell_type": "markdown",
   "id": "7f129c1d",
   "metadata": {},
   "source": [
    "## b. The __init__ can be called by the instance and pass value directly. Run the following code."
   ]
  },
  {
   "cell_type": "code",
   "execution_count": 39,
   "id": "15156728",
   "metadata": {},
   "outputs": [
    {
     "name": "stdout",
     "output_type": "stream",
     "text": [
      "Initialize the new instance of Point.\n"
     ]
    },
    {
     "data": {
      "text/plain": [
       "Point(x=34, y=45)"
      ]
     },
     "execution_count": 39,
     "metadata": {},
     "output_type": "execute_result"
    }
   ],
   "source": [
    "point.__init__(34, 45)\n",
    "point.x\n",
    "point.y\n",
    "point"
   ]
  },
  {
   "cell_type": "code",
   "execution_count": null,
   "id": "5279393e",
   "metadata": {},
   "outputs": [],
   "source": []
  }
 ],
 "metadata": {
  "kernelspec": {
   "display_name": "Python 3 (ipykernel)",
   "language": "python",
   "name": "python3"
  },
  "language_info": {
   "codemirror_mode": {
    "name": "ipython",
    "version": 3
   },
   "file_extension": ".py",
   "mimetype": "text/x-python",
   "name": "python",
   "nbconvert_exporter": "python",
   "pygments_lexer": "ipython3",
   "version": "3.11.5"
  }
 },
 "nbformat": 4,
 "nbformat_minor": 5
}
